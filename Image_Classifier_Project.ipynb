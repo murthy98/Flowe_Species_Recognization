{
  "nbformat": 4,
  "nbformat_minor": 0,
  "metadata": {
    "colab": {
      "name": "Image Classifier Project.ipynb",
      "version": "0.3.2",
      "provenance": [],
      "collapsed_sections": [],
      "toc_visible": true
    },
    "kernelspec": {
      "name": "python3",
      "display_name": "Python 3"
    },
    "accelerator": "GPU"
  },
  "cells": [
    {
      "metadata": {
        "id": "36BZTZCuT1E6",
        "colab_type": "text"
      },
      "cell_type": "markdown",
      "source": [
        "# Developing an AI application\n",
        "\n",
        "Going forward, AI algorithms will be incorporated into more and more everyday applications. For example, you might want to include an image classifier in a smart phone app. To do this, you'd use a deep learning model trained on hundreds of thousands of images as part of the overall application architecture. A large part of software development in the future will be using these types of models as common parts of applications. \n",
        "\n",
        "In this project, you'll train an image classifier to recognize different species of flowers. You can imagine using something like this in a phone app that tells you the name of the flower your camera is looking at. In practice you'd train this classifier, then export it for use in your application. We'll be using [this dataset](http://www.robots.ox.ac.uk/~vgg/data/flowers/102/index.html) of 102 flower categories, you can see a few examples below. \n",
        "\n",
        "<img src='assets/Flowers.png' width=500px>\n",
        "\n",
        "The project is broken down into multiple steps:\n",
        "\n",
        "* Load and preprocess the image dataset\n",
        "* Train the image classifier on your dataset\n",
        "* Use the trained classifier to predict image content\n",
        "\n",
        "We'll lead you through each part which you'll implement in Python.\n",
        "\n",
        "When you've completed this project, you'll have an application that can be trained on any set of labeled images. Here your network will be learning about flowers and end up as a command line application. But, what you do with your new skills depends on your imagination and effort in building a dataset. For example, imagine an app where you take a picture of a car, it tells you what the make and model is, then looks up information about it. Go build your own dataset and make something new.\n",
        "\n",
        "First up is importing the packages you'll need. It's good practice to keep all the imports at the beginning of your code. As you work through this notebook and find you need to import a package, make sure to add the import up here."
      ]
    },
    {
      "metadata": {
        "id": "rgkDoRRNT1E-",
        "colab_type": "code",
        "outputId": "3aec141b-cb67-4f2c-c72c-70dc39b49384",
        "colab": {
          "base_uri": "https://localhost:8080/",
          "height": 666
        }
      },
      "cell_type": "code",
      "source": [
        "# Imports here\n",
        "!pip install torch\n",
        "!pip install torchvision\n",
        "!pip install helper\n",
        "\n",
        "\n",
        "import torch\n",
        "import numpy as np\n",
        "%matplotlib inline\n",
        "%config InlineBackend.figure_format = 'retina'\n",
        "\n",
        "import matplotlib.pyplot as plt\n",
        "\n",
        "import torch\n",
        "import torch.nn as nn\n",
        "from torchvision import datasets, transforms,models\n",
        "\n",
        "import helper\n",
        "\n",
        "\n",
        "!ln -sf /opt/bin/nvidia-smi /usr/bin/nvidia-smi\n",
        "!pip install gputil\n",
        "!pip install psutil\n",
        "!pip install humanize\n",
        "import psutil\n",
        "import humanize\n",
        "import os\n",
        "import GPUtil as GPU\n",
        "GPUs = GPU.getGPUs()\n",
        "# XXX: only one GPU on Colab and isn’t guaranteed\n",
        "gpu = GPUs[0]\n",
        "def printm():\n",
        "  process = psutil.Process(os.getpid())\n",
        "  print(\"Gen RAM Free: \" + humanize.naturalsize( psutil.virtual_memory().available ), \" | Proc size: \" + humanize.naturalsize( process.memory_info().rss))\n",
        "  print(\"GPU RAM Free: {0:.0f}MB | Used: {1:.0f}MB | Util {2:3.0f}% | Total {3:.0f}MB\".format(gpu.memoryFree, gpu.memoryUsed, gpu.memoryUtil*100, gpu.memoryTotal))\n",
        "printm()\n"
      ],
      "execution_count": 0,
      "outputs": [
        {
          "output_type": "stream",
          "text": [
            "Collecting torch\n",
            "\u001b[?25l  Downloading https://files.pythonhosted.org/packages/7e/60/66415660aa46b23b5e1b72bc762e816736ce8d7260213e22365af51e8f9c/torch-1.0.0-cp36-cp36m-manylinux1_x86_64.whl (591.8MB)\n",
            "\u001b[K    100% |████████████████████████████████| 591.8MB 22kB/s \n",
            "tcmalloc: large alloc 1073750016 bytes == 0x6196c000 @  0x7fdc0f2b92a4 0x591a07 0x5b5d56 0x502e9a 0x506859 0x502209 0x502f3d 0x506859 0x504c28 0x502540 0x502f3d 0x506859 0x504c28 0x502540 0x502f3d 0x506859 0x504c28 0x502540 0x502f3d 0x507641 0x502209 0x502f3d 0x506859 0x504c28 0x502540 0x502f3d 0x507641 0x504c28 0x502540 0x502f3d 0x507641\n",
            "\u001b[?25hInstalling collected packages: torch\n",
            "Successfully installed torch-1.0.0\n",
            "Collecting torchvision\n",
            "\u001b[?25l  Downloading https://files.pythonhosted.org/packages/ca/0d/f00b2885711e08bd71242ebe7b96561e6f6d01fdb4b9dcf4d37e2e13c5e1/torchvision-0.2.1-py2.py3-none-any.whl (54kB)\n",
            "\u001b[K    100% |████████████████████████████████| 61kB 5.5MB/s \n",
            "\u001b[?25hRequirement already satisfied: numpy in /usr/local/lib/python3.6/dist-packages (from torchvision) (1.14.6)\n",
            "Requirement already satisfied: torch in /usr/local/lib/python3.6/dist-packages (from torchvision) (1.0.0)\n",
            "Collecting pillow>=4.1.1 (from torchvision)\n",
            "\u001b[?25l  Downloading https://files.pythonhosted.org/packages/92/e3/217dfd0834a51418c602c96b110059c477260c7fee898542b100913947cf/Pillow-5.4.0-cp36-cp36m-manylinux1_x86_64.whl (2.0MB)\n",
            "\u001b[K    100% |████████████████████████████████| 2.0MB 10.1MB/s \n",
            "\u001b[?25hRequirement already satisfied: six in /usr/local/lib/python3.6/dist-packages (from torchvision) (1.11.0)\n",
            "Installing collected packages: pillow, torchvision\n",
            "  Found existing installation: Pillow 4.0.0\n",
            "    Uninstalling Pillow-4.0.0:\n",
            "      Successfully uninstalled Pillow-4.0.0\n",
            "Successfully installed pillow-5.4.0 torchvision-0.2.1\n",
            "Collecting helper\n",
            "  Downloading https://files.pythonhosted.org/packages/be/27/80bdb3e3bd9808db34ef38b332e984ba955a09d896231ef2ca62564cb6f9/helper-2.4.2-py2.py3-none-any.whl\n",
            "Requirement already satisfied: pyyaml in /usr/local/lib/python3.6/dist-packages (from helper) (3.13)\n",
            "Installing collected packages: helper\n",
            "Successfully installed helper-2.4.2\n",
            "Collecting gputil\n",
            "  Downloading https://files.pythonhosted.org/packages/ed/0e/5c61eedde9f6c87713e89d794f01e378cfd9565847d4576fa627d758c554/GPUtil-1.4.0.tar.gz\n",
            "Building wheels for collected packages: gputil\n",
            "  Running setup.py bdist_wheel for gputil ... \u001b[?25l-\b \bdone\n",
            "\u001b[?25h  Stored in directory: /root/.cache/pip/wheels/3d/77/07/80562de4bb0786e5ea186911a2c831fdd0018bda69beab71fd\n",
            "Successfully built gputil\n",
            "Installing collected packages: gputil\n",
            "Successfully installed gputil-1.4.0\n",
            "Requirement already satisfied: psutil in /usr/local/lib/python3.6/dist-packages (5.4.8)\n",
            "Requirement already satisfied: humanize in /usr/local/lib/python3.6/dist-packages (0.5.1)\n",
            "Gen RAM Free: 12.9 GB  | Proc size: 255.0 MB\n",
            "GPU RAM Free: 11441MB | Used: 0MB | Util   0% | Total 11441MB\n"
          ],
          "name": "stdout"
        }
      ]
    },
    {
      "metadata": {
        "id": "huPgddakT1FF",
        "colab_type": "text"
      },
      "cell_type": "markdown",
      "source": [
        "## Load the data\n",
        "\n",
        "Here you'll use `torchvision` to load the data ([documentation](http://pytorch.org/docs/0.3.0/torchvision/index.html)). You can [download the data here](https://s3.amazonaws.com/content.udacity-data.com/courses/nd188/flower_data.zip). The dataset is split into two parts, training and validation. For the training, you'll want to apply transformations such as random scaling, cropping, and flipping. This will help the network generalize leading to better performance. If you use a pre-trained network, you'll also need to make sure the input data is resized to 224x224 pixels as required by the networks.\n",
        "\n",
        "The validation set is used to measure the model's performance on data it hasn't seen yet. For this you don't want any scaling or rotation transformations, but you'll need to resize then crop the images to the appropriate size.\n",
        "\n",
        "The pre-trained networks available from `torchvision` were trained on the ImageNet dataset where each color channel was normalized separately. For both sets you'll need to normalize the means and standard deviations of the images to what the network expects. For the means, it's `[0.485, 0.456, 0.406]` and for the standard deviations `[0.229, 0.224, 0.225]`, calculated from the ImageNet images.  These values will shift each color channel to be centered at 0 and range from -1 to 1."
      ]
    },
    {
      "metadata": {
        "id": "TmzY9GCmT1FM",
        "colab_type": "code",
        "outputId": "92d6b462-e1b0-412b-8782-c300054a83ad",
        "colab": {
          "base_uri": "https://localhost:8080/",
          "height": 34
        }
      },
      "cell_type": "code",
      "source": [
        "!wget -cq https://s3.amazonaws.com/content.udacity-data.com/courses/nd188/flower_data.zip\n",
        "from torch.utils.data.sampler import SubsetRandomSampler\n",
        "# number of subprocesses to use for data loading\n",
        "num_workers = 0\n",
        "# how many samples per batch to load\n",
        "batch_size = 64\n",
        "# percentage of training set to use as validation\n",
        "valid_size = 0.3\n",
        "\n",
        "#To unzip dataset in colab\n",
        "data_dir='/content/flower_data'\n",
        "!unzip -qq flower_data.zip\n",
        "train_transforms = transforms.Compose([transforms.RandomRotation(30),\n",
        "                                       transforms.RandomResizedCrop(224),\n",
        "                                       transforms.RandomHorizontalFlip(),\n",
        "\n",
        "                                       transforms.ToTensor(),\n",
        "                                       \n",
        "                                       transforms.Normalize([0.485, 0.456, 0.406],\n",
        "                                                            [0.229, 0.224, 0.225])])\n",
        "\n",
        "test_transforms = transforms.Compose([transforms.RandomRotation(30),\n",
        "                                      transforms.CenterCrop(224),\n",
        "                                     \n",
        "                                      transforms.ToTensor(),\n",
        "                                      transforms.Normalize([0.485, 0.456, 0.406],\n",
        "                                                           [0.229, 0.224, 0.225])])\n",
        "\n",
        "# Pass transforms in here, then run the next cell to see how the transforms look\n",
        "train_data = datasets.ImageFolder(data_dir + '/train', transform=train_transforms)\n",
        "test_data = datasets.ImageFolder(data_dir + '/valid', transform=test_transforms)\n",
        "num_train = len(train_data)\n",
        "indices = list(range(num_train))\n",
        "np.random.shuffle(indices)\n",
        "split = int(np.floor(valid_size * num_train))\n",
        "train_idx, valid_idx = indices[split:], indices[:split]\n",
        "\n",
        "# define samplers for obtaining training and validation batches\n",
        "train_sampler = SubsetRandomSampler(train_idx)\n",
        "valid_sampler = SubsetRandomSampler(valid_idx)\n",
        "\n",
        "# prepare data loaders (combine dataset and sampler)\n",
        "trainloader = torch.utils.data.DataLoader(train_data, batch_size=batch_size,\n",
        "    sampler=train_sampler, num_workers=num_workers)\n",
        "validloader = torch.utils.data.DataLoader(train_data, batch_size=batch_size, \n",
        "    sampler=valid_sampler, num_workers=num_workers)\n",
        "testloader = torch.utils.data.DataLoader(test_data, batch_size=batch_size, \n",
        "    num_workers=num_workers)\n",
        "print(len(trainloader))"
      ],
      "execution_count": 0,
      "outputs": [
        {
          "output_type": "stream",
          "text": [
            "72\n"
          ],
          "name": "stdout"
        }
      ]
    },
    {
      "metadata": {
        "id": "q3jW2J_gT1FR",
        "colab_type": "text"
      },
      "cell_type": "markdown",
      "source": [
        "### Label mapping\n",
        "\n",
        "You'll also need to load in a mapping from category label to category name. You can find this in the file `cat_to_name.json`. It's a JSON object which you can read in with the [`json` module](https://docs.python.org/2/library/json.html). This will give you a dictionary mapping the integer encoded categories to the actual names of the flowers."
      ]
    },
    {
      "metadata": {
        "id": "bO0OVHByT1FS",
        "colab_type": "code",
        "outputId": "2e0b6653-bc77-4d7f-81d0-a5532fdd02b0",
        "colab": {
          "base_uri": "https://localhost:8080/",
          "height": 204
        }
      },
      "cell_type": "code",
      "source": [
        "#!pip install json\n",
        "!wget -nc https://raw.githubusercontent.com/udacity/pytorch_challenge/master/cat_to_name.json\n",
        "import json\n",
        "with open('/content/cat_to_name.json', 'r') as f:\n",
        "    cat_to_name = json.load(f)"
      ],
      "execution_count": 0,
      "outputs": [
        {
          "output_type": "stream",
          "text": [
            "--2019-01-02 13:14:05--  https://raw.githubusercontent.com/udacity/pytorch_challenge/master/cat_to_name.json\n",
            "Resolving raw.githubusercontent.com (raw.githubusercontent.com)... 151.101.0.133, 151.101.64.133, 151.101.128.133, ...\n",
            "Connecting to raw.githubusercontent.com (raw.githubusercontent.com)|151.101.0.133|:443... connected.\n",
            "HTTP request sent, awaiting response... 200 OK\n",
            "Length: 2218 (2.2K) [text/plain]\n",
            "Saving to: ‘cat_to_name.json’\n",
            "\n",
            "\rcat_to_name.json      0%[                    ]       0  --.-KB/s               \rcat_to_name.json    100%[===================>]   2.17K  --.-KB/s    in 0s      \n",
            "\n",
            "2019-01-02 13:14:05 (29.4 MB/s) - ‘cat_to_name.json’ saved [2218/2218]\n",
            "\n"
          ],
          "name": "stdout"
        }
      ]
    },
    {
      "metadata": {
        "id": "fLwnZH4jT1FW",
        "colab_type": "text"
      },
      "cell_type": "markdown",
      "source": [
        "# Building and training the classifier\n",
        "\n",
        "Now that the data is ready, it's time to build and train the classifier. As usual, you should use one of the pretrained models from `torchvision.models` to get the image features. Build and train a new feed-forward classifier using those features.\n",
        "\n",
        "We're going to leave this part up to you. If you want to talk through it with someone, chat with your fellow students! You can also ask questions on the forums or join the instructors in office hours.\n",
        "\n",
        "Refer to [the rubric](https://review.udacity.com/#!/rubrics/1663/view) for guidance on successfully completing this section. Things you'll need to do:\n",
        "\n",
        "* Load a [pre-trained network](http://pytorch.org/docs/master/torchvision/models.html) (If you need a starting point, the VGG networks work great and are straightforward to use)\n",
        "* Define a new, untrained feed-forward network as a classifier, using ReLU activations and dropout\n",
        "* Train the classifier layers using backpropagation using the pre-trained network to get the features\n",
        "* Track the loss and accuracy on the validation set to determine the best hyperparameters\n",
        "\n",
        "We've left a cell open for you below, but use as many as you need. Our advice is to break the problem up into smaller parts you can run separately. Check that each part is doing what you expect, then move on to the next. You'll likely find that as you work through each part, you'll need to go back and modify your previous code. This is totally normal!\n",
        "\n",
        "When training make sure you're updating only the weights of the feed-forward network. You should be able to get the validation accuracy above 70% if you build everything right. Make sure to try different hyperparameters (learning rate, units in the classifier, epochs, etc) to find the best model. Save those hyperparameters to use as default values in the next part of the project."
      ]
    },
    {
      "metadata": {
        "id": "9b71oQUOT1FY",
        "colab_type": "code",
        "outputId": "05c1b6e4-4788-4ed2-d212-2061cff27c15",
        "colab": {
          "base_uri": "https://localhost:8080/",
          "height": 1346
        }
      },
      "cell_type": "code",
      "source": [
        "#!pip install time\n",
        "#!pip install pillow==4.1.1\n",
        "#!pip install PIL\n",
        "train_on_gpu = torch.cuda.is_available()\n",
        "from collections import OrderedDict\n",
        "\n",
        "%reload_ext autoreload\n",
        "%autoreload\n",
        "%matplotlib inline\n",
        "%config InlineBackend.figure_format = 'retina'\n",
        "import time\n",
        "import torch.optim as optim\n",
        "\n",
        "import torch.nn as nn\n",
        "\n",
        "model = models.densenet121(pretrained=True)\n",
        "for param in model.parameters():\n",
        "    param.requires_grad = False\n",
        "\n",
        "classifier = nn.Sequential(OrderedDict([\n",
        "                           ('dropout',nn.Dropout(0.2)),\n",
        "                          ('fc1', nn.Linear(1024, 517)),\n",
        "                          ('relu',nn.ReLU()),\n",
        "                          ('dropout',nn.Dropout(0.2)),\n",
        "                          ('fc2', nn.Linear(517, 102)),\n",
        "                          ('relu',nn.ReLU()),\n",
        "                          ('output', nn.LogSoftmax(dim=1))\n",
        "                          ]))\n",
        "    \n",
        "model.classifier = classifier\n",
        "\n",
        "\n",
        "criterion = nn.CrossEntropyLoss().cuda()\n",
        "optimizer = optim.SGD(model.parameters(),lr=0.005,momentum=0.9, weight_decay=0.0005)\n",
        "scheduler = torch.optim.lr_scheduler.StepLR(optimizer,20,gamma=0.8)\n",
        "\n",
        "\n",
        "model=model.cuda()\n",
        "\n",
        "valid_loss_min = np.Inf # track change in validation loss\n",
        "n_epochs=50\n",
        "for epoch in range(1, n_epochs+1):\n",
        "    scheduler.step()\n",
        "\n",
        "    # keep track of training and validation loss\n",
        "    train_loss = 0.0\n",
        "    valid_loss = 0.0\n",
        "   \n",
        "    ###################\n",
        "    # train the model #\n",
        "    ###################\n",
        "    model.train()\n",
        "    for data, target in trainloader:\n",
        "        # move tensors to GPU if CUDA is available\n",
        "        if train_on_gpu:\n",
        "            data, target = data.cuda(), target.cuda()\n",
        "        \n",
        "        optimizer.zero_grad()\n",
        "        # forward pass: compute predicted outputs by passing inputs to the model\n",
        "        output = model(data)\n",
        "        # calculate the batch loss\n",
        "        loss = criterion(output, target)\n",
        "        # backward pass: compute gradient of the loss with respect to model parameters\n",
        "        loss.backward()\n",
        "        # perform a single optimization step (parameter update)\n",
        "        optimizer.step()\n",
        "        # update training loss\n",
        "        train_loss += loss.item()*data.size(0)\n",
        "       \n",
        "    ######################    \n",
        "    # validate the model #\n",
        "    ######################\n",
        "    model.eval()\n",
        "    for data, target in validloader:\n",
        "        # move tensors to GPU if CUDA is available\n",
        "        optimizer.zero_grad()\n",
        "        if train_on_gpu:\n",
        "            data, target = data.cuda(), target.cuda()\n",
        "        # forward pass: compute predicted outputs by passing inputs to the model\n",
        "        output = model(data)\n",
        "        # calculate the batch loss\n",
        "        loss = criterion(output, target)\n",
        "        # update average validation loss \n",
        "        valid_loss += loss.item()*data.size(0)\n",
        "    \n",
        "\n",
        "    # calculate average losses\n",
        "    train_loss = train_loss/len(trainloader.dataset)\n",
        "    valid_loss = valid_loss/len(validloader.dataset)\n",
        "   \n",
        "    # print training/validation statistics \n",
        "    print('Epoch: {} \\tTraining Loss: {:.6f} \\tValidation Loss: {:.6f}'.format(\n",
        "        epoch, train_loss, valid_loss))\n",
        "    # save model if validation loss has decreased\n",
        "    if valid_loss <= valid_loss_min:\n",
        "        print('Validation loss decreased ({:.6f} --> {:.6f}).  Saving model ...'.format(\n",
        "        valid_loss_min,\n",
        "        valid_loss))\n",
        "        torch.save(model.state_dict(), 'classifier.pth')\n",
        "        valid_loss_min = valid_loss\n",
        "    "
      ],
      "execution_count": 0,
      "outputs": [
        {
          "output_type": "stream",
          "text": [
            "/usr/local/lib/python3.6/dist-packages/torchvision/models/densenet.py:212: UserWarning: nn.init.kaiming_normal is now deprecated in favor of nn.init.kaiming_normal_.\n",
            "  nn.init.kaiming_normal(m.weight.data)\n"
          ],
          "name": "stderr"
        },
        {
          "output_type": "stream",
          "text": [
            "Epoch: 1 \tTraining Loss: 3.048697 \tValidation Loss: 1.193650\n",
            "Validation loss decreased (inf --> 1.193650).  Saving model ...\n",
            "Epoch: 2 \tTraining Loss: 2.486151 \tValidation Loss: 0.900982\n",
            "Validation loss decreased (1.193650 --> 0.900982).  Saving model ...\n",
            "Epoch: 3 \tTraining Loss: 1.837997 \tValidation Loss: 0.661087\n",
            "Validation loss decreased (0.900982 --> 0.661087).  Saving model ...\n",
            "Epoch: 4 \tTraining Loss: 1.366962 \tValidation Loss: 0.477514\n",
            "Validation loss decreased (0.661087 --> 0.477514).  Saving model ...\n",
            "Epoch: 5 \tTraining Loss: 1.057686 \tValidation Loss: 0.375574\n",
            "Validation loss decreased (0.477514 --> 0.375574).  Saving model ...\n",
            "Epoch: 6 \tTraining Loss: 0.879100 \tValidation Loss: 0.314045\n",
            "Validation loss decreased (0.375574 --> 0.314045).  Saving model ...\n",
            "Epoch: 7 \tTraining Loss: 0.723911 \tValidation Loss: 0.266170\n",
            "Validation loss decreased (0.314045 --> 0.266170).  Saving model ...\n",
            "Epoch: 8 \tTraining Loss: 0.675853 \tValidation Loss: 0.244017\n",
            "Validation loss decreased (0.266170 --> 0.244017).  Saving model ...\n",
            "Epoch: 9 \tTraining Loss: 0.598745 \tValidation Loss: 0.228528\n",
            "Validation loss decreased (0.244017 --> 0.228528).  Saving model ...\n",
            "Epoch: 10 \tTraining Loss: 0.576681 \tValidation Loss: 0.209454\n",
            "Validation loss decreased (0.228528 --> 0.209454).  Saving model ...\n",
            "Epoch: 11 \tTraining Loss: 0.539446 \tValidation Loss: 0.202163\n",
            "Validation loss decreased (0.209454 --> 0.202163).  Saving model ...\n",
            "Epoch: 12 \tTraining Loss: 0.500701 \tValidation Loss: 0.193660\n",
            "Validation loss decreased (0.202163 --> 0.193660).  Saving model ...\n",
            "Epoch: 13 \tTraining Loss: 0.501187 \tValidation Loss: 0.183122\n",
            "Validation loss decreased (0.193660 --> 0.183122).  Saving model ...\n",
            "Epoch: 14 \tTraining Loss: 0.476463 \tValidation Loss: 0.177950\n",
            "Validation loss decreased (0.183122 --> 0.177950).  Saving model ...\n",
            "Epoch: 15 \tTraining Loss: 0.444596 \tValidation Loss: 0.180773\n",
            "Epoch: 16 \tTraining Loss: 0.433309 \tValidation Loss: 0.167988\n",
            "Validation loss decreased (0.177950 --> 0.167988).  Saving model ...\n",
            "Epoch: 17 \tTraining Loss: 0.411987 \tValidation Loss: 0.165031\n",
            "Validation loss decreased (0.167988 --> 0.165031).  Saving model ...\n",
            "Epoch: 18 \tTraining Loss: 0.399750 \tValidation Loss: 0.167521\n",
            "Epoch: 19 \tTraining Loss: 0.379967 \tValidation Loss: 0.147931\n",
            "Validation loss decreased (0.165031 --> 0.147931).  Saving model ...\n",
            "Epoch: 20 \tTraining Loss: 0.383439 \tValidation Loss: 0.153255\n",
            "Epoch: 21 \tTraining Loss: 0.375318 \tValidation Loss: 0.160120\n",
            "Epoch: 22 \tTraining Loss: 0.343948 \tValidation Loss: 0.151600\n",
            "Epoch: 23 \tTraining Loss: 0.345306 \tValidation Loss: 0.144797\n",
            "Validation loss decreased (0.147931 --> 0.144797).  Saving model ...\n",
            "Epoch: 24 \tTraining Loss: 0.360073 \tValidation Loss: 0.149919\n",
            "Epoch: 25 \tTraining Loss: 0.349660 \tValidation Loss: 0.136962\n",
            "Validation loss decreased (0.144797 --> 0.136962).  Saving model ...\n",
            "Epoch: 26 \tTraining Loss: 0.358740 \tValidation Loss: 0.144846\n",
            "Epoch: 27 \tTraining Loss: 0.343885 \tValidation Loss: 0.133546\n",
            "Validation loss decreased (0.136962 --> 0.133546).  Saving model ...\n",
            "Epoch: 28 \tTraining Loss: 0.333195 \tValidation Loss: 0.137756\n",
            "Epoch: 29 \tTraining Loss: 0.344607 \tValidation Loss: 0.140606\n",
            "Epoch: 30 \tTraining Loss: 0.310430 \tValidation Loss: 0.132028\n",
            "Validation loss decreased (0.133546 --> 0.132028).  Saving model ...\n",
            "Epoch: 31 \tTraining Loss: 0.311382 \tValidation Loss: 0.130532\n",
            "Validation loss decreased (0.132028 --> 0.130532).  Saving model ...\n",
            "Epoch: 32 \tTraining Loss: 0.312420 \tValidation Loss: 0.132845\n",
            "Epoch: 33 \tTraining Loss: 0.308470 \tValidation Loss: 0.132439\n",
            "Epoch: 34 \tTraining Loss: 0.317484 \tValidation Loss: 0.132081\n",
            "Epoch: 35 \tTraining Loss: 0.316014 \tValidation Loss: 0.142039\n",
            "Epoch: 36 \tTraining Loss: 0.327695 \tValidation Loss: 0.120682\n",
            "Validation loss decreased (0.130532 --> 0.120682).  Saving model ...\n",
            "Epoch: 37 \tTraining Loss: 0.295756 \tValidation Loss: 0.132972\n",
            "Epoch: 38 \tTraining Loss: 0.302820 \tValidation Loss: 0.127117\n",
            "Epoch: 39 \tTraining Loss: 0.296070 \tValidation Loss: 0.134414\n",
            "Epoch: 40 \tTraining Loss: 0.298977 \tValidation Loss: 0.128354\n",
            "Epoch: 41 \tTraining Loss: 0.295711 \tValidation Loss: 0.121990\n",
            "Epoch: 42 \tTraining Loss: 0.278625 \tValidation Loss: 0.126034\n",
            "Epoch: 43 \tTraining Loss: 0.297309 \tValidation Loss: 0.134313\n",
            "Epoch: 44 \tTraining Loss: 0.265853 \tValidation Loss: 0.115659\n",
            "Validation loss decreased (0.120682 --> 0.115659).  Saving model ...\n",
            "Epoch: 45 \tTraining Loss: 0.280802 \tValidation Loss: 0.121326\n",
            "Epoch: 46 \tTraining Loss: 0.281541 \tValidation Loss: 0.122113\n",
            "Epoch: 47 \tTraining Loss: 0.295920 \tValidation Loss: 0.115261\n",
            "Validation loss decreased (0.115659 --> 0.115261).  Saving model ...\n",
            "Epoch: 48 \tTraining Loss: 0.270711 \tValidation Loss: 0.119980\n",
            "Epoch: 49 \tTraining Loss: 0.271967 \tValidation Loss: 0.120111\n",
            "Epoch: 50 \tTraining Loss: 0.265807 \tValidation Loss: 0.118117\n"
          ],
          "name": "stdout"
        }
      ]
    },
    {
      "metadata": {
        "id": "JhP2pWeNT1Fc",
        "colab_type": "text"
      },
      "cell_type": "markdown",
      "source": [
        "## Save the checkpoint\n",
        "\n",
        "Now that your network is trained, save the model so you can load it later for making predictions. You probably want to save other things such as the mapping of classes to indices which you get from one of the image datasets: `image_datasets['train'].class_to_idx`. You can attach this to the model as an attribute which makes inference easier later on.\n",
        "\n",
        "```model.class_to_idx = image_datasets['train'].class_to_idx```\n",
        "\n",
        "Remember that you'll want to completely rebuild the model later so you can use it for inference. Make sure to include any information you need in the checkpoint. If you want to load the model and keep training, you'll want to save the number of epochs as well as the optimizer state, `optimizer.state_dict`. You'll likely want to use this trained model in the next part of the project, so best to save it now."
      ]
    },
    {
      "metadata": {
        "colab_type": "code",
        "id": "6kpzkH7gt1eB",
        "outputId": "1b7b47cc-cc25-4efa-847d-c2902b6a28bb",
        "colab": {
          "base_uri": "https://localhost:8080/",
          "height": 71
        }
      },
      "cell_type": "code",
      "source": [
        "!ls\n",
        "checkpoint = torch.load('classifier.pth')\n",
        "print(checkpoint.keys())\n",
        "model.load_state_dict(checkpoint)"
      ],
      "execution_count": 0,
      "outputs": [
        {
          "output_type": "stream",
          "text": [
            "cat_to_name.json  classifier.pth  flower_data  flower_data.zip\tsample_data\n",
            "odict_keys(['features.conv0.weight', 'features.norm0.weight', 'features.norm0.bias', 'features.norm0.running_mean', 'features.norm0.running_var', 'features.norm0.num_batches_tracked', 'features.denseblock1.denselayer1.norm1.weight', 'features.denseblock1.denselayer1.norm1.bias', 'features.denseblock1.denselayer1.norm1.running_mean', 'features.denseblock1.denselayer1.norm1.running_var', 'features.denseblock1.denselayer1.norm1.num_batches_tracked', 'features.denseblock1.denselayer1.conv1.weight', 'features.denseblock1.denselayer1.norm2.weight', 'features.denseblock1.denselayer1.norm2.bias', 'features.denseblock1.denselayer1.norm2.running_mean', 'features.denseblock1.denselayer1.norm2.running_var', 'features.denseblock1.denselayer1.norm2.num_batches_tracked', 'features.denseblock1.denselayer1.conv2.weight', 'features.denseblock1.denselayer2.norm1.weight', 'features.denseblock1.denselayer2.norm1.bias', 'features.denseblock1.denselayer2.norm1.running_mean', 'features.denseblock1.denselayer2.norm1.running_var', 'features.denseblock1.denselayer2.norm1.num_batches_tracked', 'features.denseblock1.denselayer2.conv1.weight', 'features.denseblock1.denselayer2.norm2.weight', 'features.denseblock1.denselayer2.norm2.bias', 'features.denseblock1.denselayer2.norm2.running_mean', 'features.denseblock1.denselayer2.norm2.running_var', 'features.denseblock1.denselayer2.norm2.num_batches_tracked', 'features.denseblock1.denselayer2.conv2.weight', 'features.denseblock1.denselayer3.norm1.weight', 'features.denseblock1.denselayer3.norm1.bias', 'features.denseblock1.denselayer3.norm1.running_mean', 'features.denseblock1.denselayer3.norm1.running_var', 'features.denseblock1.denselayer3.norm1.num_batches_tracked', 'features.denseblock1.denselayer3.conv1.weight', 'features.denseblock1.denselayer3.norm2.weight', 'features.denseblock1.denselayer3.norm2.bias', 'features.denseblock1.denselayer3.norm2.running_mean', 'features.denseblock1.denselayer3.norm2.running_var', 'features.denseblock1.denselayer3.norm2.num_batches_tracked', 'features.denseblock1.denselayer3.conv2.weight', 'features.denseblock1.denselayer4.norm1.weight', 'features.denseblock1.denselayer4.norm1.bias', 'features.denseblock1.denselayer4.norm1.running_mean', 'features.denseblock1.denselayer4.norm1.running_var', 'features.denseblock1.denselayer4.norm1.num_batches_tracked', 'features.denseblock1.denselayer4.conv1.weight', 'features.denseblock1.denselayer4.norm2.weight', 'features.denseblock1.denselayer4.norm2.bias', 'features.denseblock1.denselayer4.norm2.running_mean', 'features.denseblock1.denselayer4.norm2.running_var', 'features.denseblock1.denselayer4.norm2.num_batches_tracked', 'features.denseblock1.denselayer4.conv2.weight', 'features.denseblock1.denselayer5.norm1.weight', 'features.denseblock1.denselayer5.norm1.bias', 'features.denseblock1.denselayer5.norm1.running_mean', 'features.denseblock1.denselayer5.norm1.running_var', 'features.denseblock1.denselayer5.norm1.num_batches_tracked', 'features.denseblock1.denselayer5.conv1.weight', 'features.denseblock1.denselayer5.norm2.weight', 'features.denseblock1.denselayer5.norm2.bias', 'features.denseblock1.denselayer5.norm2.running_mean', 'features.denseblock1.denselayer5.norm2.running_var', 'features.denseblock1.denselayer5.norm2.num_batches_tracked', 'features.denseblock1.denselayer5.conv2.weight', 'features.denseblock1.denselayer6.norm1.weight', 'features.denseblock1.denselayer6.norm1.bias', 'features.denseblock1.denselayer6.norm1.running_mean', 'features.denseblock1.denselayer6.norm1.running_var', 'features.denseblock1.denselayer6.norm1.num_batches_tracked', 'features.denseblock1.denselayer6.conv1.weight', 'features.denseblock1.denselayer6.norm2.weight', 'features.denseblock1.denselayer6.norm2.bias', 'features.denseblock1.denselayer6.norm2.running_mean', 'features.denseblock1.denselayer6.norm2.running_var', 'features.denseblock1.denselayer6.norm2.num_batches_tracked', 'features.denseblock1.denselayer6.conv2.weight', 'features.transition1.norm.weight', 'features.transition1.norm.bias', 'features.transition1.norm.running_mean', 'features.transition1.norm.running_var', 'features.transition1.norm.num_batches_tracked', 'features.transition1.conv.weight', 'features.denseblock2.denselayer1.norm1.weight', 'features.denseblock2.denselayer1.norm1.bias', 'features.denseblock2.denselayer1.norm1.running_mean', 'features.denseblock2.denselayer1.norm1.running_var', 'features.denseblock2.denselayer1.norm1.num_batches_tracked', 'features.denseblock2.denselayer1.conv1.weight', 'features.denseblock2.denselayer1.norm2.weight', 'features.denseblock2.denselayer1.norm2.bias', 'features.denseblock2.denselayer1.norm2.running_mean', 'features.denseblock2.denselayer1.norm2.running_var', 'features.denseblock2.denselayer1.norm2.num_batches_tracked', 'features.denseblock2.denselayer1.conv2.weight', 'features.denseblock2.denselayer2.norm1.weight', 'features.denseblock2.denselayer2.norm1.bias', 'features.denseblock2.denselayer2.norm1.running_mean', 'features.denseblock2.denselayer2.norm1.running_var', 'features.denseblock2.denselayer2.norm1.num_batches_tracked', 'features.denseblock2.denselayer2.conv1.weight', 'features.denseblock2.denselayer2.norm2.weight', 'features.denseblock2.denselayer2.norm2.bias', 'features.denseblock2.denselayer2.norm2.running_mean', 'features.denseblock2.denselayer2.norm2.running_var', 'features.denseblock2.denselayer2.norm2.num_batches_tracked', 'features.denseblock2.denselayer2.conv2.weight', 'features.denseblock2.denselayer3.norm1.weight', 'features.denseblock2.denselayer3.norm1.bias', 'features.denseblock2.denselayer3.norm1.running_mean', 'features.denseblock2.denselayer3.norm1.running_var', 'features.denseblock2.denselayer3.norm1.num_batches_tracked', 'features.denseblock2.denselayer3.conv1.weight', 'features.denseblock2.denselayer3.norm2.weight', 'features.denseblock2.denselayer3.norm2.bias', 'features.denseblock2.denselayer3.norm2.running_mean', 'features.denseblock2.denselayer3.norm2.running_var', 'features.denseblock2.denselayer3.norm2.num_batches_tracked', 'features.denseblock2.denselayer3.conv2.weight', 'features.denseblock2.denselayer4.norm1.weight', 'features.denseblock2.denselayer4.norm1.bias', 'features.denseblock2.denselayer4.norm1.running_mean', 'features.denseblock2.denselayer4.norm1.running_var', 'features.denseblock2.denselayer4.norm1.num_batches_tracked', 'features.denseblock2.denselayer4.conv1.weight', 'features.denseblock2.denselayer4.norm2.weight', 'features.denseblock2.denselayer4.norm2.bias', 'features.denseblock2.denselayer4.norm2.running_mean', 'features.denseblock2.denselayer4.norm2.running_var', 'features.denseblock2.denselayer4.norm2.num_batches_tracked', 'features.denseblock2.denselayer4.conv2.weight', 'features.denseblock2.denselayer5.norm1.weight', 'features.denseblock2.denselayer5.norm1.bias', 'features.denseblock2.denselayer5.norm1.running_mean', 'features.denseblock2.denselayer5.norm1.running_var', 'features.denseblock2.denselayer5.norm1.num_batches_tracked', 'features.denseblock2.denselayer5.conv1.weight', 'features.denseblock2.denselayer5.norm2.weight', 'features.denseblock2.denselayer5.norm2.bias', 'features.denseblock2.denselayer5.norm2.running_mean', 'features.denseblock2.denselayer5.norm2.running_var', 'features.denseblock2.denselayer5.norm2.num_batches_tracked', 'features.denseblock2.denselayer5.conv2.weight', 'features.denseblock2.denselayer6.norm1.weight', 'features.denseblock2.denselayer6.norm1.bias', 'features.denseblock2.denselayer6.norm1.running_mean', 'features.denseblock2.denselayer6.norm1.running_var', 'features.denseblock2.denselayer6.norm1.num_batches_tracked', 'features.denseblock2.denselayer6.conv1.weight', 'features.denseblock2.denselayer6.norm2.weight', 'features.denseblock2.denselayer6.norm2.bias', 'features.denseblock2.denselayer6.norm2.running_mean', 'features.denseblock2.denselayer6.norm2.running_var', 'features.denseblock2.denselayer6.norm2.num_batches_tracked', 'features.denseblock2.denselayer6.conv2.weight', 'features.denseblock2.denselayer7.norm1.weight', 'features.denseblock2.denselayer7.norm1.bias', 'features.denseblock2.denselayer7.norm1.running_mean', 'features.denseblock2.denselayer7.norm1.running_var', 'features.denseblock2.denselayer7.norm1.num_batches_tracked', 'features.denseblock2.denselayer7.conv1.weight', 'features.denseblock2.denselayer7.norm2.weight', 'features.denseblock2.denselayer7.norm2.bias', 'features.denseblock2.denselayer7.norm2.running_mean', 'features.denseblock2.denselayer7.norm2.running_var', 'features.denseblock2.denselayer7.norm2.num_batches_tracked', 'features.denseblock2.denselayer7.conv2.weight', 'features.denseblock2.denselayer8.norm1.weight', 'features.denseblock2.denselayer8.norm1.bias', 'features.denseblock2.denselayer8.norm1.running_mean', 'features.denseblock2.denselayer8.norm1.running_var', 'features.denseblock2.denselayer8.norm1.num_batches_tracked', 'features.denseblock2.denselayer8.conv1.weight', 'features.denseblock2.denselayer8.norm2.weight', 'features.denseblock2.denselayer8.norm2.bias', 'features.denseblock2.denselayer8.norm2.running_mean', 'features.denseblock2.denselayer8.norm2.running_var', 'features.denseblock2.denselayer8.norm2.num_batches_tracked', 'features.denseblock2.denselayer8.conv2.weight', 'features.denseblock2.denselayer9.norm1.weight', 'features.denseblock2.denselayer9.norm1.bias', 'features.denseblock2.denselayer9.norm1.running_mean', 'features.denseblock2.denselayer9.norm1.running_var', 'features.denseblock2.denselayer9.norm1.num_batches_tracked', 'features.denseblock2.denselayer9.conv1.weight', 'features.denseblock2.denselayer9.norm2.weight', 'features.denseblock2.denselayer9.norm2.bias', 'features.denseblock2.denselayer9.norm2.running_mean', 'features.denseblock2.denselayer9.norm2.running_var', 'features.denseblock2.denselayer9.norm2.num_batches_tracked', 'features.denseblock2.denselayer9.conv2.weight', 'features.denseblock2.denselayer10.norm1.weight', 'features.denseblock2.denselayer10.norm1.bias', 'features.denseblock2.denselayer10.norm1.running_mean', 'features.denseblock2.denselayer10.norm1.running_var', 'features.denseblock2.denselayer10.norm1.num_batches_tracked', 'features.denseblock2.denselayer10.conv1.weight', 'features.denseblock2.denselayer10.norm2.weight', 'features.denseblock2.denselayer10.norm2.bias', 'features.denseblock2.denselayer10.norm2.running_mean', 'features.denseblock2.denselayer10.norm2.running_var', 'features.denseblock2.denselayer10.norm2.num_batches_tracked', 'features.denseblock2.denselayer10.conv2.weight', 'features.denseblock2.denselayer11.norm1.weight', 'features.denseblock2.denselayer11.norm1.bias', 'features.denseblock2.denselayer11.norm1.running_mean', 'features.denseblock2.denselayer11.norm1.running_var', 'features.denseblock2.denselayer11.norm1.num_batches_tracked', 'features.denseblock2.denselayer11.conv1.weight', 'features.denseblock2.denselayer11.norm2.weight', 'features.denseblock2.denselayer11.norm2.bias', 'features.denseblock2.denselayer11.norm2.running_mean', 'features.denseblock2.denselayer11.norm2.running_var', 'features.denseblock2.denselayer11.norm2.num_batches_tracked', 'features.denseblock2.denselayer11.conv2.weight', 'features.denseblock2.denselayer12.norm1.weight', 'features.denseblock2.denselayer12.norm1.bias', 'features.denseblock2.denselayer12.norm1.running_mean', 'features.denseblock2.denselayer12.norm1.running_var', 'features.denseblock2.denselayer12.norm1.num_batches_tracked', 'features.denseblock2.denselayer12.conv1.weight', 'features.denseblock2.denselayer12.norm2.weight', 'features.denseblock2.denselayer12.norm2.bias', 'features.denseblock2.denselayer12.norm2.running_mean', 'features.denseblock2.denselayer12.norm2.running_var', 'features.denseblock2.denselayer12.norm2.num_batches_tracked', 'features.denseblock2.denselayer12.conv2.weight', 'features.transition2.norm.weight', 'features.transition2.norm.bias', 'features.transition2.norm.running_mean', 'features.transition2.norm.running_var', 'features.transition2.norm.num_batches_tracked', 'features.transition2.conv.weight', 'features.denseblock3.denselayer1.norm1.weight', 'features.denseblock3.denselayer1.norm1.bias', 'features.denseblock3.denselayer1.norm1.running_mean', 'features.denseblock3.denselayer1.norm1.running_var', 'features.denseblock3.denselayer1.norm1.num_batches_tracked', 'features.denseblock3.denselayer1.conv1.weight', 'features.denseblock3.denselayer1.norm2.weight', 'features.denseblock3.denselayer1.norm2.bias', 'features.denseblock3.denselayer1.norm2.running_mean', 'features.denseblock3.denselayer1.norm2.running_var', 'features.denseblock3.denselayer1.norm2.num_batches_tracked', 'features.denseblock3.denselayer1.conv2.weight', 'features.denseblock3.denselayer2.norm1.weight', 'features.denseblock3.denselayer2.norm1.bias', 'features.denseblock3.denselayer2.norm1.running_mean', 'features.denseblock3.denselayer2.norm1.running_var', 'features.denseblock3.denselayer2.norm1.num_batches_tracked', 'features.denseblock3.denselayer2.conv1.weight', 'features.denseblock3.denselayer2.norm2.weight', 'features.denseblock3.denselayer2.norm2.bias', 'features.denseblock3.denselayer2.norm2.running_mean', 'features.denseblock3.denselayer2.norm2.running_var', 'features.denseblock3.denselayer2.norm2.num_batches_tracked', 'features.denseblock3.denselayer2.conv2.weight', 'features.denseblock3.denselayer3.norm1.weight', 'features.denseblock3.denselayer3.norm1.bias', 'features.denseblock3.denselayer3.norm1.running_mean', 'features.denseblock3.denselayer3.norm1.running_var', 'features.denseblock3.denselayer3.norm1.num_batches_tracked', 'features.denseblock3.denselayer3.conv1.weight', 'features.denseblock3.denselayer3.norm2.weight', 'features.denseblock3.denselayer3.norm2.bias', 'features.denseblock3.denselayer3.norm2.running_mean', 'features.denseblock3.denselayer3.norm2.running_var', 'features.denseblock3.denselayer3.norm2.num_batches_tracked', 'features.denseblock3.denselayer3.conv2.weight', 'features.denseblock3.denselayer4.norm1.weight', 'features.denseblock3.denselayer4.norm1.bias', 'features.denseblock3.denselayer4.norm1.running_mean', 'features.denseblock3.denselayer4.norm1.running_var', 'features.denseblock3.denselayer4.norm1.num_batches_tracked', 'features.denseblock3.denselayer4.conv1.weight', 'features.denseblock3.denselayer4.norm2.weight', 'features.denseblock3.denselayer4.norm2.bias', 'features.denseblock3.denselayer4.norm2.running_mean', 'features.denseblock3.denselayer4.norm2.running_var', 'features.denseblock3.denselayer4.norm2.num_batches_tracked', 'features.denseblock3.denselayer4.conv2.weight', 'features.denseblock3.denselayer5.norm1.weight', 'features.denseblock3.denselayer5.norm1.bias', 'features.denseblock3.denselayer5.norm1.running_mean', 'features.denseblock3.denselayer5.norm1.running_var', 'features.denseblock3.denselayer5.norm1.num_batches_tracked', 'features.denseblock3.denselayer5.conv1.weight', 'features.denseblock3.denselayer5.norm2.weight', 'features.denseblock3.denselayer5.norm2.bias', 'features.denseblock3.denselayer5.norm2.running_mean', 'features.denseblock3.denselayer5.norm2.running_var', 'features.denseblock3.denselayer5.norm2.num_batches_tracked', 'features.denseblock3.denselayer5.conv2.weight', 'features.denseblock3.denselayer6.norm1.weight', 'features.denseblock3.denselayer6.norm1.bias', 'features.denseblock3.denselayer6.norm1.running_mean', 'features.denseblock3.denselayer6.norm1.running_var', 'features.denseblock3.denselayer6.norm1.num_batches_tracked', 'features.denseblock3.denselayer6.conv1.weight', 'features.denseblock3.denselayer6.norm2.weight', 'features.denseblock3.denselayer6.norm2.bias', 'features.denseblock3.denselayer6.norm2.running_mean', 'features.denseblock3.denselayer6.norm2.running_var', 'features.denseblock3.denselayer6.norm2.num_batches_tracked', 'features.denseblock3.denselayer6.conv2.weight', 'features.denseblock3.denselayer7.norm1.weight', 'features.denseblock3.denselayer7.norm1.bias', 'features.denseblock3.denselayer7.norm1.running_mean', 'features.denseblock3.denselayer7.norm1.running_var', 'features.denseblock3.denselayer7.norm1.num_batches_tracked', 'features.denseblock3.denselayer7.conv1.weight', 'features.denseblock3.denselayer7.norm2.weight', 'features.denseblock3.denselayer7.norm2.bias', 'features.denseblock3.denselayer7.norm2.running_mean', 'features.denseblock3.denselayer7.norm2.running_var', 'features.denseblock3.denselayer7.norm2.num_batches_tracked', 'features.denseblock3.denselayer7.conv2.weight', 'features.denseblock3.denselayer8.norm1.weight', 'features.denseblock3.denselayer8.norm1.bias', 'features.denseblock3.denselayer8.norm1.running_mean', 'features.denseblock3.denselayer8.norm1.running_var', 'features.denseblock3.denselayer8.norm1.num_batches_tracked', 'features.denseblock3.denselayer8.conv1.weight', 'features.denseblock3.denselayer8.norm2.weight', 'features.denseblock3.denselayer8.norm2.bias', 'features.denseblock3.denselayer8.norm2.running_mean', 'features.denseblock3.denselayer8.norm2.running_var', 'features.denseblock3.denselayer8.norm2.num_batches_tracked', 'features.denseblock3.denselayer8.conv2.weight', 'features.denseblock3.denselayer9.norm1.weight', 'features.denseblock3.denselayer9.norm1.bias', 'features.denseblock3.denselayer9.norm1.running_mean', 'features.denseblock3.denselayer9.norm1.running_var', 'features.denseblock3.denselayer9.norm1.num_batches_tracked', 'features.denseblock3.denselayer9.conv1.weight', 'features.denseblock3.denselayer9.norm2.weight', 'features.denseblock3.denselayer9.norm2.bias', 'features.denseblock3.denselayer9.norm2.running_mean', 'features.denseblock3.denselayer9.norm2.running_var', 'features.denseblock3.denselayer9.norm2.num_batches_tracked', 'features.denseblock3.denselayer9.conv2.weight', 'features.denseblock3.denselayer10.norm1.weight', 'features.denseblock3.denselayer10.norm1.bias', 'features.denseblock3.denselayer10.norm1.running_mean', 'features.denseblock3.denselayer10.norm1.running_var', 'features.denseblock3.denselayer10.norm1.num_batches_tracked', 'features.denseblock3.denselayer10.conv1.weight', 'features.denseblock3.denselayer10.norm2.weight', 'features.denseblock3.denselayer10.norm2.bias', 'features.denseblock3.denselayer10.norm2.running_mean', 'features.denseblock3.denselayer10.norm2.running_var', 'features.denseblock3.denselayer10.norm2.num_batches_tracked', 'features.denseblock3.denselayer10.conv2.weight', 'features.denseblock3.denselayer11.norm1.weight', 'features.denseblock3.denselayer11.norm1.bias', 'features.denseblock3.denselayer11.norm1.running_mean', 'features.denseblock3.denselayer11.norm1.running_var', 'features.denseblock3.denselayer11.norm1.num_batches_tracked', 'features.denseblock3.denselayer11.conv1.weight', 'features.denseblock3.denselayer11.norm2.weight', 'features.denseblock3.denselayer11.norm2.bias', 'features.denseblock3.denselayer11.norm2.running_mean', 'features.denseblock3.denselayer11.norm2.running_var', 'features.denseblock3.denselayer11.norm2.num_batches_tracked', 'features.denseblock3.denselayer11.conv2.weight', 'features.denseblock3.denselayer12.norm1.weight', 'features.denseblock3.denselayer12.norm1.bias', 'features.denseblock3.denselayer12.norm1.running_mean', 'features.denseblock3.denselayer12.norm1.running_var', 'features.denseblock3.denselayer12.norm1.num_batches_tracked', 'features.denseblock3.denselayer12.conv1.weight', 'features.denseblock3.denselayer12.norm2.weight', 'features.denseblock3.denselayer12.norm2.bias', 'features.denseblock3.denselayer12.norm2.running_mean', 'features.denseblock3.denselayer12.norm2.running_var', 'features.denseblock3.denselayer12.norm2.num_batches_tracked', 'features.denseblock3.denselayer12.conv2.weight', 'features.denseblock3.denselayer13.norm1.weight', 'features.denseblock3.denselayer13.norm1.bias', 'features.denseblock3.denselayer13.norm1.running_mean', 'features.denseblock3.denselayer13.norm1.running_var', 'features.denseblock3.denselayer13.norm1.num_batches_tracked', 'features.denseblock3.denselayer13.conv1.weight', 'features.denseblock3.denselayer13.norm2.weight', 'features.denseblock3.denselayer13.norm2.bias', 'features.denseblock3.denselayer13.norm2.running_mean', 'features.denseblock3.denselayer13.norm2.running_var', 'features.denseblock3.denselayer13.norm2.num_batches_tracked', 'features.denseblock3.denselayer13.conv2.weight', 'features.denseblock3.denselayer14.norm1.weight', 'features.denseblock3.denselayer14.norm1.bias', 'features.denseblock3.denselayer14.norm1.running_mean', 'features.denseblock3.denselayer14.norm1.running_var', 'features.denseblock3.denselayer14.norm1.num_batches_tracked', 'features.denseblock3.denselayer14.conv1.weight', 'features.denseblock3.denselayer14.norm2.weight', 'features.denseblock3.denselayer14.norm2.bias', 'features.denseblock3.denselayer14.norm2.running_mean', 'features.denseblock3.denselayer14.norm2.running_var', 'features.denseblock3.denselayer14.norm2.num_batches_tracked', 'features.denseblock3.denselayer14.conv2.weight', 'features.denseblock3.denselayer15.norm1.weight', 'features.denseblock3.denselayer15.norm1.bias', 'features.denseblock3.denselayer15.norm1.running_mean', 'features.denseblock3.denselayer15.norm1.running_var', 'features.denseblock3.denselayer15.norm1.num_batches_tracked', 'features.denseblock3.denselayer15.conv1.weight', 'features.denseblock3.denselayer15.norm2.weight', 'features.denseblock3.denselayer15.norm2.bias', 'features.denseblock3.denselayer15.norm2.running_mean', 'features.denseblock3.denselayer15.norm2.running_var', 'features.denseblock3.denselayer15.norm2.num_batches_tracked', 'features.denseblock3.denselayer15.conv2.weight', 'features.denseblock3.denselayer16.norm1.weight', 'features.denseblock3.denselayer16.norm1.bias', 'features.denseblock3.denselayer16.norm1.running_mean', 'features.denseblock3.denselayer16.norm1.running_var', 'features.denseblock3.denselayer16.norm1.num_batches_tracked', 'features.denseblock3.denselayer16.conv1.weight', 'features.denseblock3.denselayer16.norm2.weight', 'features.denseblock3.denselayer16.norm2.bias', 'features.denseblock3.denselayer16.norm2.running_mean', 'features.denseblock3.denselayer16.norm2.running_var', 'features.denseblock3.denselayer16.norm2.num_batches_tracked', 'features.denseblock3.denselayer16.conv2.weight', 'features.denseblock3.denselayer17.norm1.weight', 'features.denseblock3.denselayer17.norm1.bias', 'features.denseblock3.denselayer17.norm1.running_mean', 'features.denseblock3.denselayer17.norm1.running_var', 'features.denseblock3.denselayer17.norm1.num_batches_tracked', 'features.denseblock3.denselayer17.conv1.weight', 'features.denseblock3.denselayer17.norm2.weight', 'features.denseblock3.denselayer17.norm2.bias', 'features.denseblock3.denselayer17.norm2.running_mean', 'features.denseblock3.denselayer17.norm2.running_var', 'features.denseblock3.denselayer17.norm2.num_batches_tracked', 'features.denseblock3.denselayer17.conv2.weight', 'features.denseblock3.denselayer18.norm1.weight', 'features.denseblock3.denselayer18.norm1.bias', 'features.denseblock3.denselayer18.norm1.running_mean', 'features.denseblock3.denselayer18.norm1.running_var', 'features.denseblock3.denselayer18.norm1.num_batches_tracked', 'features.denseblock3.denselayer18.conv1.weight', 'features.denseblock3.denselayer18.norm2.weight', 'features.denseblock3.denselayer18.norm2.bias', 'features.denseblock3.denselayer18.norm2.running_mean', 'features.denseblock3.denselayer18.norm2.running_var', 'features.denseblock3.denselayer18.norm2.num_batches_tracked', 'features.denseblock3.denselayer18.conv2.weight', 'features.denseblock3.denselayer19.norm1.weight', 'features.denseblock3.denselayer19.norm1.bias', 'features.denseblock3.denselayer19.norm1.running_mean', 'features.denseblock3.denselayer19.norm1.running_var', 'features.denseblock3.denselayer19.norm1.num_batches_tracked', 'features.denseblock3.denselayer19.conv1.weight', 'features.denseblock3.denselayer19.norm2.weight', 'features.denseblock3.denselayer19.norm2.bias', 'features.denseblock3.denselayer19.norm2.running_mean', 'features.denseblock3.denselayer19.norm2.running_var', 'features.denseblock3.denselayer19.norm2.num_batches_tracked', 'features.denseblock3.denselayer19.conv2.weight', 'features.denseblock3.denselayer20.norm1.weight', 'features.denseblock3.denselayer20.norm1.bias', 'features.denseblock3.denselayer20.norm1.running_mean', 'features.denseblock3.denselayer20.norm1.running_var', 'features.denseblock3.denselayer20.norm1.num_batches_tracked', 'features.denseblock3.denselayer20.conv1.weight', 'features.denseblock3.denselayer20.norm2.weight', 'features.denseblock3.denselayer20.norm2.bias', 'features.denseblock3.denselayer20.norm2.running_mean', 'features.denseblock3.denselayer20.norm2.running_var', 'features.denseblock3.denselayer20.norm2.num_batches_tracked', 'features.denseblock3.denselayer20.conv2.weight', 'features.denseblock3.denselayer21.norm1.weight', 'features.denseblock3.denselayer21.norm1.bias', 'features.denseblock3.denselayer21.norm1.running_mean', 'features.denseblock3.denselayer21.norm1.running_var', 'features.denseblock3.denselayer21.norm1.num_batches_tracked', 'features.denseblock3.denselayer21.conv1.weight', 'features.denseblock3.denselayer21.norm2.weight', 'features.denseblock3.denselayer21.norm2.bias', 'features.denseblock3.denselayer21.norm2.running_mean', 'features.denseblock3.denselayer21.norm2.running_var', 'features.denseblock3.denselayer21.norm2.num_batches_tracked', 'features.denseblock3.denselayer21.conv2.weight', 'features.denseblock3.denselayer22.norm1.weight', 'features.denseblock3.denselayer22.norm1.bias', 'features.denseblock3.denselayer22.norm1.running_mean', 'features.denseblock3.denselayer22.norm1.running_var', 'features.denseblock3.denselayer22.norm1.num_batches_tracked', 'features.denseblock3.denselayer22.conv1.weight', 'features.denseblock3.denselayer22.norm2.weight', 'features.denseblock3.denselayer22.norm2.bias', 'features.denseblock3.denselayer22.norm2.running_mean', 'features.denseblock3.denselayer22.norm2.running_var', 'features.denseblock3.denselayer22.norm2.num_batches_tracked', 'features.denseblock3.denselayer22.conv2.weight', 'features.denseblock3.denselayer23.norm1.weight', 'features.denseblock3.denselayer23.norm1.bias', 'features.denseblock3.denselayer23.norm1.running_mean', 'features.denseblock3.denselayer23.norm1.running_var', 'features.denseblock3.denselayer23.norm1.num_batches_tracked', 'features.denseblock3.denselayer23.conv1.weight', 'features.denseblock3.denselayer23.norm2.weight', 'features.denseblock3.denselayer23.norm2.bias', 'features.denseblock3.denselayer23.norm2.running_mean', 'features.denseblock3.denselayer23.norm2.running_var', 'features.denseblock3.denselayer23.norm2.num_batches_tracked', 'features.denseblock3.denselayer23.conv2.weight', 'features.denseblock3.denselayer24.norm1.weight', 'features.denseblock3.denselayer24.norm1.bias', 'features.denseblock3.denselayer24.norm1.running_mean', 'features.denseblock3.denselayer24.norm1.running_var', 'features.denseblock3.denselayer24.norm1.num_batches_tracked', 'features.denseblock3.denselayer24.conv1.weight', 'features.denseblock3.denselayer24.norm2.weight', 'features.denseblock3.denselayer24.norm2.bias', 'features.denseblock3.denselayer24.norm2.running_mean', 'features.denseblock3.denselayer24.norm2.running_var', 'features.denseblock3.denselayer24.norm2.num_batches_tracked', 'features.denseblock3.denselayer24.conv2.weight', 'features.transition3.norm.weight', 'features.transition3.norm.bias', 'features.transition3.norm.running_mean', 'features.transition3.norm.running_var', 'features.transition3.norm.num_batches_tracked', 'features.transition3.conv.weight', 'features.denseblock4.denselayer1.norm1.weight', 'features.denseblock4.denselayer1.norm1.bias', 'features.denseblock4.denselayer1.norm1.running_mean', 'features.denseblock4.denselayer1.norm1.running_var', 'features.denseblock4.denselayer1.norm1.num_batches_tracked', 'features.denseblock4.denselayer1.conv1.weight', 'features.denseblock4.denselayer1.norm2.weight', 'features.denseblock4.denselayer1.norm2.bias', 'features.denseblock4.denselayer1.norm2.running_mean', 'features.denseblock4.denselayer1.norm2.running_var', 'features.denseblock4.denselayer1.norm2.num_batches_tracked', 'features.denseblock4.denselayer1.conv2.weight', 'features.denseblock4.denselayer2.norm1.weight', 'features.denseblock4.denselayer2.norm1.bias', 'features.denseblock4.denselayer2.norm1.running_mean', 'features.denseblock4.denselayer2.norm1.running_var', 'features.denseblock4.denselayer2.norm1.num_batches_tracked', 'features.denseblock4.denselayer2.conv1.weight', 'features.denseblock4.denselayer2.norm2.weight', 'features.denseblock4.denselayer2.norm2.bias', 'features.denseblock4.denselayer2.norm2.running_mean', 'features.denseblock4.denselayer2.norm2.running_var', 'features.denseblock4.denselayer2.norm2.num_batches_tracked', 'features.denseblock4.denselayer2.conv2.weight', 'features.denseblock4.denselayer3.norm1.weight', 'features.denseblock4.denselayer3.norm1.bias', 'features.denseblock4.denselayer3.norm1.running_mean', 'features.denseblock4.denselayer3.norm1.running_var', 'features.denseblock4.denselayer3.norm1.num_batches_tracked', 'features.denseblock4.denselayer3.conv1.weight', 'features.denseblock4.denselayer3.norm2.weight', 'features.denseblock4.denselayer3.norm2.bias', 'features.denseblock4.denselayer3.norm2.running_mean', 'features.denseblock4.denselayer3.norm2.running_var', 'features.denseblock4.denselayer3.norm2.num_batches_tracked', 'features.denseblock4.denselayer3.conv2.weight', 'features.denseblock4.denselayer4.norm1.weight', 'features.denseblock4.denselayer4.norm1.bias', 'features.denseblock4.denselayer4.norm1.running_mean', 'features.denseblock4.denselayer4.norm1.running_var', 'features.denseblock4.denselayer4.norm1.num_batches_tracked', 'features.denseblock4.denselayer4.conv1.weight', 'features.denseblock4.denselayer4.norm2.weight', 'features.denseblock4.denselayer4.norm2.bias', 'features.denseblock4.denselayer4.norm2.running_mean', 'features.denseblock4.denselayer4.norm2.running_var', 'features.denseblock4.denselayer4.norm2.num_batches_tracked', 'features.denseblock4.denselayer4.conv2.weight', 'features.denseblock4.denselayer5.norm1.weight', 'features.denseblock4.denselayer5.norm1.bias', 'features.denseblock4.denselayer5.norm1.running_mean', 'features.denseblock4.denselayer5.norm1.running_var', 'features.denseblock4.denselayer5.norm1.num_batches_tracked', 'features.denseblock4.denselayer5.conv1.weight', 'features.denseblock4.denselayer5.norm2.weight', 'features.denseblock4.denselayer5.norm2.bias', 'features.denseblock4.denselayer5.norm2.running_mean', 'features.denseblock4.denselayer5.norm2.running_var', 'features.denseblock4.denselayer5.norm2.num_batches_tracked', 'features.denseblock4.denselayer5.conv2.weight', 'features.denseblock4.denselayer6.norm1.weight', 'features.denseblock4.denselayer6.norm1.bias', 'features.denseblock4.denselayer6.norm1.running_mean', 'features.denseblock4.denselayer6.norm1.running_var', 'features.denseblock4.denselayer6.norm1.num_batches_tracked', 'features.denseblock4.denselayer6.conv1.weight', 'features.denseblock4.denselayer6.norm2.weight', 'features.denseblock4.denselayer6.norm2.bias', 'features.denseblock4.denselayer6.norm2.running_mean', 'features.denseblock4.denselayer6.norm2.running_var', 'features.denseblock4.denselayer6.norm2.num_batches_tracked', 'features.denseblock4.denselayer6.conv2.weight', 'features.denseblock4.denselayer7.norm1.weight', 'features.denseblock4.denselayer7.norm1.bias', 'features.denseblock4.denselayer7.norm1.running_mean', 'features.denseblock4.denselayer7.norm1.running_var', 'features.denseblock4.denselayer7.norm1.num_batches_tracked', 'features.denseblock4.denselayer7.conv1.weight', 'features.denseblock4.denselayer7.norm2.weight', 'features.denseblock4.denselayer7.norm2.bias', 'features.denseblock4.denselayer7.norm2.running_mean', 'features.denseblock4.denselayer7.norm2.running_var', 'features.denseblock4.denselayer7.norm2.num_batches_tracked', 'features.denseblock4.denselayer7.conv2.weight', 'features.denseblock4.denselayer8.norm1.weight', 'features.denseblock4.denselayer8.norm1.bias', 'features.denseblock4.denselayer8.norm1.running_mean', 'features.denseblock4.denselayer8.norm1.running_var', 'features.denseblock4.denselayer8.norm1.num_batches_tracked', 'features.denseblock4.denselayer8.conv1.weight', 'features.denseblock4.denselayer8.norm2.weight', 'features.denseblock4.denselayer8.norm2.bias', 'features.denseblock4.denselayer8.norm2.running_mean', 'features.denseblock4.denselayer8.norm2.running_var', 'features.denseblock4.denselayer8.norm2.num_batches_tracked', 'features.denseblock4.denselayer8.conv2.weight', 'features.denseblock4.denselayer9.norm1.weight', 'features.denseblock4.denselayer9.norm1.bias', 'features.denseblock4.denselayer9.norm1.running_mean', 'features.denseblock4.denselayer9.norm1.running_var', 'features.denseblock4.denselayer9.norm1.num_batches_tracked', 'features.denseblock4.denselayer9.conv1.weight', 'features.denseblock4.denselayer9.norm2.weight', 'features.denseblock4.denselayer9.norm2.bias', 'features.denseblock4.denselayer9.norm2.running_mean', 'features.denseblock4.denselayer9.norm2.running_var', 'features.denseblock4.denselayer9.norm2.num_batches_tracked', 'features.denseblock4.denselayer9.conv2.weight', 'features.denseblock4.denselayer10.norm1.weight', 'features.denseblock4.denselayer10.norm1.bias', 'features.denseblock4.denselayer10.norm1.running_mean', 'features.denseblock4.denselayer10.norm1.running_var', 'features.denseblock4.denselayer10.norm1.num_batches_tracked', 'features.denseblock4.denselayer10.conv1.weight', 'features.denseblock4.denselayer10.norm2.weight', 'features.denseblock4.denselayer10.norm2.bias', 'features.denseblock4.denselayer10.norm2.running_mean', 'features.denseblock4.denselayer10.norm2.running_var', 'features.denseblock4.denselayer10.norm2.num_batches_tracked', 'features.denseblock4.denselayer10.conv2.weight', 'features.denseblock4.denselayer11.norm1.weight', 'features.denseblock4.denselayer11.norm1.bias', 'features.denseblock4.denselayer11.norm1.running_mean', 'features.denseblock4.denselayer11.norm1.running_var', 'features.denseblock4.denselayer11.norm1.num_batches_tracked', 'features.denseblock4.denselayer11.conv1.weight', 'features.denseblock4.denselayer11.norm2.weight', 'features.denseblock4.denselayer11.norm2.bias', 'features.denseblock4.denselayer11.norm2.running_mean', 'features.denseblock4.denselayer11.norm2.running_var', 'features.denseblock4.denselayer11.norm2.num_batches_tracked', 'features.denseblock4.denselayer11.conv2.weight', 'features.denseblock4.denselayer12.norm1.weight', 'features.denseblock4.denselayer12.norm1.bias', 'features.denseblock4.denselayer12.norm1.running_mean', 'features.denseblock4.denselayer12.norm1.running_var', 'features.denseblock4.denselayer12.norm1.num_batches_tracked', 'features.denseblock4.denselayer12.conv1.weight', 'features.denseblock4.denselayer12.norm2.weight', 'features.denseblock4.denselayer12.norm2.bias', 'features.denseblock4.denselayer12.norm2.running_mean', 'features.denseblock4.denselayer12.norm2.running_var', 'features.denseblock4.denselayer12.norm2.num_batches_tracked', 'features.denseblock4.denselayer12.conv2.weight', 'features.denseblock4.denselayer13.norm1.weight', 'features.denseblock4.denselayer13.norm1.bias', 'features.denseblock4.denselayer13.norm1.running_mean', 'features.denseblock4.denselayer13.norm1.running_var', 'features.denseblock4.denselayer13.norm1.num_batches_tracked', 'features.denseblock4.denselayer13.conv1.weight', 'features.denseblock4.denselayer13.norm2.weight', 'features.denseblock4.denselayer13.norm2.bias', 'features.denseblock4.denselayer13.norm2.running_mean', 'features.denseblock4.denselayer13.norm2.running_var', 'features.denseblock4.denselayer13.norm2.num_batches_tracked', 'features.denseblock4.denselayer13.conv2.weight', 'features.denseblock4.denselayer14.norm1.weight', 'features.denseblock4.denselayer14.norm1.bias', 'features.denseblock4.denselayer14.norm1.running_mean', 'features.denseblock4.denselayer14.norm1.running_var', 'features.denseblock4.denselayer14.norm1.num_batches_tracked', 'features.denseblock4.denselayer14.conv1.weight', 'features.denseblock4.denselayer14.norm2.weight', 'features.denseblock4.denselayer14.norm2.bias', 'features.denseblock4.denselayer14.norm2.running_mean', 'features.denseblock4.denselayer14.norm2.running_var', 'features.denseblock4.denselayer14.norm2.num_batches_tracked', 'features.denseblock4.denselayer14.conv2.weight', 'features.denseblock4.denselayer15.norm1.weight', 'features.denseblock4.denselayer15.norm1.bias', 'features.denseblock4.denselayer15.norm1.running_mean', 'features.denseblock4.denselayer15.norm1.running_var', 'features.denseblock4.denselayer15.norm1.num_batches_tracked', 'features.denseblock4.denselayer15.conv1.weight', 'features.denseblock4.denselayer15.norm2.weight', 'features.denseblock4.denselayer15.norm2.bias', 'features.denseblock4.denselayer15.norm2.running_mean', 'features.denseblock4.denselayer15.norm2.running_var', 'features.denseblock4.denselayer15.norm2.num_batches_tracked', 'features.denseblock4.denselayer15.conv2.weight', 'features.denseblock4.denselayer16.norm1.weight', 'features.denseblock4.denselayer16.norm1.bias', 'features.denseblock4.denselayer16.norm1.running_mean', 'features.denseblock4.denselayer16.norm1.running_var', 'features.denseblock4.denselayer16.norm1.num_batches_tracked', 'features.denseblock4.denselayer16.conv1.weight', 'features.denseblock4.denselayer16.norm2.weight', 'features.denseblock4.denselayer16.norm2.bias', 'features.denseblock4.denselayer16.norm2.running_mean', 'features.denseblock4.denselayer16.norm2.running_var', 'features.denseblock4.denselayer16.norm2.num_batches_tracked', 'features.denseblock4.denselayer16.conv2.weight', 'features.norm5.weight', 'features.norm5.bias', 'features.norm5.running_mean', 'features.norm5.running_var', 'features.norm5.num_batches_tracked', 'classifier.fc1.weight', 'classifier.fc1.bias', 'classifier.fc2.weight', 'classifier.fc2.bias'])\n"
          ],
          "name": "stdout"
        }
      ]
    },
    {
      "metadata": {
        "id": "r4LXM856T1Fd",
        "colab_type": "code",
        "outputId": "d8c58456-1bbc-4848-954a-ec16ff480bd6",
        "colab": {
          "base_uri": "https://localhost:8080/",
          "height": 34
        }
      },
      "cell_type": "code",
      "source": [
        "# track test loss\n",
        "test_loss = 0.0\n",
        "test_accuracy=0.0\n",
        "class_correct = list(0. for i in range(102))\n",
        "class_total = list(0. for i in range(102))\n",
        "import torch.nn.functional as F\n",
        "\n",
        "model.eval()\n",
        "# iterate over test data\n",
        "for data, target in testloader:\n",
        "    # move tensors to GPU if CUDA is available\n",
        "    if train_on_gpu:\n",
        "        data, target = data.cuda(), target.cuda()\n",
        "    # forward pass: compute predicted outputs by passing inputs to the model\n",
        "    output = model(data)\n",
        "    # calculate the batch loss\n",
        "    loss = criterion(output, target)\n",
        "    # update test loss \n",
        "    test_loss += loss.item()*data.size(0)\n",
        "    # convert output probabilities to predicted class\n",
        "    _, pred = torch.max(output, 1)    \n",
        "    ps=F.softmax(output,dim=1)\n",
        "    top_p,top_c= ps.topk(1,dim=1)\n",
        "    equals= target == top_c.view(*target.shape)\n",
        "    test_accuracy+= equals.type(torch.FloatTensor).mean()\n",
        "\n",
        "\n",
        "test_loss/=len(testloader)\n",
        "test_accuracy/=len(testloader)\n",
        "\n",
        "print(f\"Testing Loss : {test_loss} Testing_accuracy : {test_accuracy}\")\n"
      ],
      "execution_count": 0,
      "outputs": [
        {
          "output_type": "stream",
          "text": [
            "Testing Loss : 41.60656496194693 Testing_accuracy : 0.8337019681930542\n"
          ],
          "name": "stdout"
        }
      ]
    },
    {
      "metadata": {
        "id": "q91e4N_iT1Fj",
        "colab_type": "text"
      },
      "cell_type": "markdown",
      "source": [
        "## Loading the checkpoint\n",
        "\n",
        "At this point it's good to write a function that can load a checkpoint and rebuild the model. That way you can come back to this project and keep working on it without having to retrain the network."
      ]
    },
    {
      "metadata": {
        "id": "Z_EqW7OaT1Fl",
        "colab_type": "code",
        "outputId": "dd24ee93-fcbc-41f3-aadc-b4f50255e14f",
        "colab": {
          "base_uri": "https://localhost:8080/",
          "height": 564
        }
      },
      "cell_type": "code",
      "source": [
        "!pip install requests\n",
        "!pip install airtable\n",
        "import sys\n",
        "sys.path.insert(0, 'deep-learning-flower-identifier')\n",
        "from test_model_pytorch_facebook_challenge import publish_evaluated_model\n",
        "\n",
        "model = models.densenet121(pretrained=True)\n",
        "for param in model.parameters():\n",
        "    param.requires_grad = False\n",
        "\n",
        "classifier = nn.Sequential(OrderedDict([\n",
        "                           ('dropout',nn.Dropout(0.2)),\n",
        "                          ('fc1', nn.Linear(1024, 517)),\n",
        "                          ('relu',nn.ReLU()),\n",
        "                          ('dropout',nn.Dropout(0.2)),\n",
        "                          ('fc2', nn.Linear(517, 102)),\n",
        "                          ('relu',nn.ReLU()),\n",
        "                          ('output', nn.LogSoftmax(dim=1))\n",
        "                          ]))\n",
        "    \n",
        "model.classifier = classifier\n",
        "checkpoint = torch.load('classifier.pth')\n",
        "model.load_state_dict(checkpoint)\n",
        "publish_evaluated_model(model, input_image_size=224,  username=\"@Murthy\", model_name=\"Densnet121\", optim=\"SGD\",\n",
        "                    criteria=\"CrossEntropyLoss\", scheduler=\"StepLR\", epoch=50)"
      ],
      "execution_count": 0,
      "outputs": [
        {
          "output_type": "stream",
          "text": [
            "/usr/local/lib/python3.6/dist-packages/torchvision/models/densenet.py:212: UserWarning: nn.init.kaiming_normal is now deprecated in favor of nn.init.kaiming_normal_.\n",
            "  nn.init.kaiming_normal(m.weight.data)\n"
          ],
          "name": "stderr"
        },
        {
          "output_type": "stream",
          "text": [
            "Batch accuracy (Size 32): 0.875\n",
            "Batch accuracy (Size 32): 0.875\n",
            "Batch accuracy (Size 32): 1.0\n",
            "Batch accuracy (Size 32): 0.96875\n",
            "Batch accuracy (Size 32): 0.96875\n",
            "Batch accuracy (Size 32): 0.9375\n",
            "Batch accuracy (Size 32): 0.90625\n",
            "Batch accuracy (Size 32): 0.96875\n",
            "Batch accuracy (Size 32): 0.875\n",
            "Batch accuracy (Size 32): 0.875\n",
            "Batch accuracy (Size 32): 1.0\n",
            "Batch accuracy (Size 32): 0.96875\n",
            "Batch accuracy (Size 32): 0.90625\n",
            "Batch accuracy (Size 32): 0.9375\n",
            "Batch accuracy (Size 32): 0.96875\n",
            "Batch accuracy (Size 32): 0.96875\n",
            "Batch accuracy (Size 32): 1.0\n",
            "Batch accuracy (Size 32): 1.0\n",
            "Batch accuracy (Size 32): 0.90625\n",
            "Batch accuracy (Size 32): 0.90625\n",
            "Batch accuracy (Size 32): 0.90625\n",
            "Batch accuracy (Size 32): 0.875\n",
            "Batch accuracy (Size 32): 0.96875\n",
            "Batch accuracy (Size 32): 0.9375\n",
            "Batch accuracy (Size 32): 1.0\n",
            "Batch accuracy (Size 32): 1.0\n",
            "Mean accuracy: 0.942307710647583\n",
            "\n",
            "The new model has exceeded the previous one: Accuracy on test set was 0.0060096, now is 0.942307710647583\n"
          ],
          "name": "stdout"
        }
      ]
    },
    {
      "metadata": {
        "id": "VUrA3SUfT1Ft",
        "colab_type": "text"
      },
      "cell_type": "markdown",
      "source": [
        "# Inference for classification\n",
        "\n",
        "Now you'll write a function to use a trained network for inference. That is, you'll pass an image into the network and predict the class of the flower in the image. Write a function called `predict` that takes an image and a model, then returns the top $K$ most likely classes along with the probabilities. It should look like \n",
        "\n",
        "```python\n",
        "probs, classes = predict(image_path, model)\n",
        "print(probs)\n",
        "print(classes)\n",
        "> [ 0.01558163  0.01541934  0.01452626  0.01443549  0.01407339]\n",
        "> ['70', '3', '45', '62', '55']\n",
        "```\n",
        "\n",
        "First you'll need to handle processing the input image such that it can be used in your network. \n",
        "\n",
        "## Image Preprocessing\n",
        "\n",
        "You'll want to use `PIL` to load the image ([documentation](https://pillow.readthedocs.io/en/latest/reference/Image.html)). It's best to write a function that preprocesses the image so it can be used as input for the model. This function should process the images in the same manner used for training. \n",
        "\n",
        "First, resize the images where the shortest side is 256 pixels, keeping the aspect ratio. This can be done with the [`thumbnail`](http://pillow.readthedocs.io/en/3.1.x/reference/Image.html#PIL.Image.Image.thumbnail) or [`resize`](http://pillow.readthedocs.io/en/3.1.x/reference/Image.html#PIL.Image.Image.thumbnail) methods. Then you'll need to crop out the center 224x224 portion of the image.\n",
        "\n",
        "Color channels of images are typically encoded as integers 0-255, but the model expected floats 0-1. You'll need to convert the values. It's easiest with a Numpy array, which you can get from a PIL image like so `np_image = np.array(pil_image)`.\n",
        "\n",
        "As before, the network expects the images to be normalized in a specific way. For the means, it's `[0.485, 0.456, 0.406]` and for the standard deviations `[0.229, 0.224, 0.225]`. You'll want to subtract the means from each color channel, then divide by the standard deviation. \n",
        "\n",
        "And finally, PyTorch expects the color channel to be the first dimension but it's the third dimension in the PIL image and Numpy array. You can reorder dimensions using [`ndarray.transpose`](https://docs.scipy.org/doc/numpy-1.13.0/reference/generated/numpy.ndarray.transpose.html). The color channel needs to be first and retain the order of the other two dimensions."
      ]
    },
    {
      "metadata": {
        "id": "LSobOqy9T1Fv",
        "colab_type": "code",
        "outputId": "e9f24b58-4267-40ee-8c0b-95f12d04d1db",
        "colab": {
          "base_uri": "https://localhost:8080/",
          "height": 34
        }
      },
      "cell_type": "code",
      "source": [
        "!ls"
      ],
      "execution_count": 0,
      "outputs": [
        {
          "output_type": "stream",
          "text": [
            "cat_to_name.json  classifier.pth  flower_data  flower_data.zip\tsample_data\n"
          ],
          "name": "stdout"
        }
      ]
    },
    {
      "metadata": {
        "id": "22E03q4MT1F0",
        "colab_type": "text"
      },
      "cell_type": "markdown",
      "source": [
        "To check your work, the function below converts a PyTorch tensor and displays it in the notebook. If your `process_image` function works, running the output through this function should return the original image (except for the cropped out portions)."
      ]
    },
    {
      "metadata": {
        "id": "JFH8fyGIT1F2",
        "colab_type": "code",
        "colab": {}
      },
      "cell_type": "code",
      "source": [
        "def imshow(image, ax=None, title=None):\n",
        "    \"\"\"Imshow for Tensor.\"\"\"\n",
        "    if ax is None:\n",
        "        fig, ax = plt.subplots()\n",
        "    \n",
        "    # PyTorch tensors assume the color channel is the first dimension\n",
        "    # but matplotlib assumes is the third dimension\n",
        "    image = image.numpy().transpose((1, 2, 0))\n",
        "    \n",
        "    # Undo preprocessing\n",
        "    mean = np.array([0.485, 0.456, 0.406])\n",
        "    std = np.array([0.229, 0.224, 0.225])\n",
        "    image = std * image + mean\n",
        "    \n",
        "    # Image needs to be clipped between 0 and 1 or it looks like noise when displayed\n",
        "    image = np.clip(image, 0, 1)\n",
        "    \n",
        "    ax.imshow(image)\n",
        "    \n",
        "    return ax"
      ],
      "execution_count": 0,
      "outputs": []
    },
    {
      "metadata": {
        "id": "QzuapLJ0T1F8",
        "colab_type": "text"
      },
      "cell_type": "markdown",
      "source": [
        "## Class Prediction\n",
        "\n",
        "Once you can get images in the correct format, it's time to write a function for making predictions with your model. A common practice is to predict the top 5 or so (usually called top-$K$) most probable classes. You'll want to calculate the class probabilities then find the $K$ largest values.\n",
        "\n",
        "To get the top $K$ largest values in a tensor use [`x.topk(k)`](http://pytorch.org/docs/master/torch.html#torch.topk). This method returns both the highest `k` probabilities and the indices of those probabilities corresponding to the classes. You need to convert from these indices to the actual class labels using `class_to_idx` which hopefully you added to the model or from an `ImageFolder` you used to load the data ([see here](#Save-the-checkpoint)). Make sure to invert the dictionary so you get a mapping from index to class as well.\n",
        "\n",
        "Again, this method should take a path to an image and a model checkpoint, then return the probabilities and classes.\n",
        "\n",
        "```python\n",
        "probs, classes = predict(image_path, model)\n",
        "print(probs)\n",
        "print(classes)\n",
        "> [ 0.01558163  0.01541934  0.01452626  0.01443549  0.01407339]\n",
        "> ['70', '3', '45', '62', '55']\n",
        "```"
      ]
    },
    {
      "metadata": {
        "id": "Pv_6gKKoT1F-",
        "colab_type": "code",
        "colab": {}
      },
      "cell_type": "code",
      "source": [
        "def predict(image_path, model, topk=5):\n",
        "    ''' Predict the class (or classes) of an image using a trained deep learning model.\n",
        "    '''\n",
        "    \n",
        "    # TODO: Implement the code to predict the class from an image file"
      ],
      "execution_count": 0,
      "outputs": []
    },
    {
      "metadata": {
        "id": "BytAppTnT1GC",
        "colab_type": "text"
      },
      "cell_type": "markdown",
      "source": [
        "## Sanity Checking\n",
        "\n",
        "Now that you can use a trained model for predictions, check to make sure it makes sense. Even if the validation accuracy is high, it's always good to check that there aren't obvious bugs. Use `matplotlib` to plot the probabilities for the top 5 classes as a bar graph, along with the input image. It should look like this:\n",
        "\n",
        "<img src='assets/inference_example.png' width=300px>\n",
        "\n",
        "You can convert from the class integer encoding to actual flower names with the `cat_to_name.json` file (should have been loaded earlier in the notebook). To show a PyTorch tensor as an image, use the `imshow` function defined above."
      ]
    },
    {
      "metadata": {
        "id": "7OcUoFTET1GD",
        "colab_type": "code",
        "colab": {}
      },
      "cell_type": "code",
      "source": [
        "# TODO: Display an image along with the top 5 classes"
      ],
      "execution_count": 0,
      "outputs": []
    }
  ]
}